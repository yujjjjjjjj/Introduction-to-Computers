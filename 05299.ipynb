{
  "nbformat": 4,
  "nbformat_minor": 0,
  "metadata": {
    "colab": {
      "provenance": [],
      "authorship_tag": "ABX9TyMphMdeLqFNqHNUa9DX1jY3",
      "include_colab_link": true
    },
    "kernelspec": {
      "name": "python3",
      "display_name": "Python 3"
    },
    "language_info": {
      "name": "python"
    }
  },
  "cells": [
    {
      "cell_type": "markdown",
      "metadata": {
        "id": "view-in-github",
        "colab_type": "text"
      },
      "source": [
        "<a href=\"https://colab.research.google.com/github/yujjjjjjjj/Introduction-to-Computers/blob/main/05299.ipynb\" target=\"_parent\"><img src=\"https://colab.research.google.com/assets/colab-badge.svg\" alt=\"Open In Colab\"/></a>"
      ]
    },
    {
      "cell_type": "code",
      "execution_count": null,
      "metadata": {
        "colab": {
          "base_uri": "https://localhost:8080/"
        },
        "id": "yTJ7qn4UMbex",
        "outputId": "129c4c8a-2713-4076-a590-b98b2d8976eb"
      },
      "outputs": [
        {
          "output_type": "stream",
          "name": "stdout",
          "text": [
            "5\n",
            "*\n",
            "**\n",
            "***\n",
            "****\n",
            "*****\n"
          ]
        }
      ],
      "source": [
        "n=int(input())\n",
        "for i in range(1,n+1):\n",
        "  print(i*'*')"
      ]
    },
    {
      "cell_type": "code",
      "source": [
        "monthA=int(input())\n",
        "if(3 <= monthA <= 5):\n",
        "  print('{} is spring'.format(monthA))\n",
        "elif(6 <= monthA<= 8):\n",
        "  print('{} is summer'.format(monthA))\n",
        "elif(9 <= monthA<= 11):\n",
        "  print('{} is autumn'.format(monthA))\n",
        "elif(monthA == 12 or monthA == 1 or monthA == 2 ):\n",
        "  print('{} is winter'.format(monthA))\n",
        "else:\n",
        "  print('input error')"
      ],
      "metadata": {
        "colab": {
          "base_uri": "https://localhost:8080/"
        },
        "id": "ClJH3yvKMdhe",
        "outputId": "dd73e324-4947-4415-d266-1dd242d17f2d"
      },
      "execution_count": null,
      "outputs": [
        {
          "output_type": "stream",
          "name": "stdout",
          "text": [
            "1\n",
            "1 is winter\n"
          ]
        }
      ]
    },
    {
      "cell_type": "code",
      "source": [
        "score=input(\"請輸入分數\")\n",
        "sc=int(score)\n",
        "if(sc>=90 and sc<=100):\n",
        "  print(\"A\")\n",
        "elif(sc>=80 and sc<=90):\n",
        "  print(\"B\")\n",
        "elif(sc>=70 and sc<=80):\n",
        "  print(\"C\")\n",
        "elif(sc>=60 and sc<=70):\n",
        "  print(\"D\")\n",
        "elif(sc<=60 and sc<=70):\n",
        "  print(\"E\")\n",
        "else:\n",
        "  print(\"{} is error\".format(sc))"
      ],
      "metadata": {
        "id": "CcHhw6RCMdl0",
        "colab": {
          "base_uri": "https://localhost:8080/"
        },
        "outputId": "b97233c3-d9af-45d5-d6b4-5746e0705adb"
      },
      "execution_count": 10,
      "outputs": [
        {
          "output_type": "stream",
          "name": "stdout",
          "text": [
            "請輸入分數102\n",
            "102 is error\n"
          ]
        }
      ]
    },
    {
      "cell_type": "code",
      "source": [],
      "metadata": {
        "id": "XKZcB_QigsB0"
      },
      "execution_count": null,
      "outputs": []
    },
    {
      "cell_type": "code",
      "source": [],
      "metadata": {
        "id": "kO4H66AyMdqG"
      },
      "execution_count": null,
      "outputs": []
    },
    {
      "cell_type": "code",
      "source": [],
      "metadata": {
        "id": "3d3qsohCMdst"
      },
      "execution_count": null,
      "outputs": []
    },
    {
      "cell_type": "code",
      "source": [],
      "metadata": {
        "id": "dkvlOVnhMdvM"
      },
      "execution_count": null,
      "outputs": []
    },
    {
      "cell_type": "code",
      "source": [],
      "metadata": {
        "id": "O5ZqrLSxMdxs"
      },
      "execution_count": null,
      "outputs": []
    },
    {
      "cell_type": "code",
      "source": [],
      "metadata": {
        "id": "6GDbJTsTMd0U"
      },
      "execution_count": null,
      "outputs": []
    },
    {
      "cell_type": "code",
      "source": [],
      "metadata": {
        "id": "PcrgdOUaMd2c"
      },
      "execution_count": null,
      "outputs": []
    },
    {
      "cell_type": "code",
      "source": [],
      "metadata": {
        "id": "4RoxGXZkMd48"
      },
      "execution_count": null,
      "outputs": []
    },
    {
      "cell_type": "code",
      "source": [],
      "metadata": {
        "id": "LMi1cd5jMd8d"
      },
      "execution_count": null,
      "outputs": []
    },
    {
      "cell_type": "code",
      "source": [],
      "metadata": {
        "id": "fuggvgXPMd_M"
      },
      "execution_count": null,
      "outputs": []
    },
    {
      "cell_type": "code",
      "source": [],
      "metadata": {
        "id": "1Tq8_0vkMeB0"
      },
      "execution_count": null,
      "outputs": []
    },
    {
      "cell_type": "code",
      "source": [],
      "metadata": {
        "id": "FmfforJ0MeEc"
      },
      "execution_count": null,
      "outputs": []
    },
    {
      "cell_type": "code",
      "source": [],
      "metadata": {
        "id": "5DUuaS27MeG8"
      },
      "execution_count": null,
      "outputs": []
    }
  ]
}