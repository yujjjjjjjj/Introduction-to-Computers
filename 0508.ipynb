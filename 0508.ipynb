{
  "nbformat": 4,
  "nbformat_minor": 0,
  "metadata": {
    "colab": {
      "provenance": [],
      "authorship_tag": "ABX9TyOXtlPKAczkjYJ4hyVOdlrG",
      "include_colab_link": true
    },
    "kernelspec": {
      "name": "python3",
      "display_name": "Python 3"
    },
    "language_info": {
      "name": "python"
    }
  },
  "cells": [
    {
      "cell_type": "markdown",
      "metadata": {
        "id": "view-in-github",
        "colab_type": "text"
      },
      "source": [
        "<a href=\"https://colab.research.google.com/github/yujjjjjjjj/Introduction-to-Computers/blob/main/0508.ipynb\" target=\"_parent\"><img src=\"https://colab.research.google.com/assets/colab-badge.svg\" alt=\"Open In Colab\"/></a>"
      ]
    },
    {
      "cell_type": "code",
      "execution_count": 43,
      "metadata": {
        "colab": {
          "base_uri": "https://localhost:8080/"
        },
        "id": "OIe0o6zIBETH",
        "outputId": "1c89acf2-097e-4ca0-ddc9-0fa0341fdd92"
      },
      "outputs": [
        {
          "output_type": "stream",
          "name": "stdout",
          "text": [
            "請輸入體溫35\n",
            "體溫正常!\n"
          ]
        }
      ],
      "source": [
        "a=float(input(\"請輸入體溫\"))\n",
        "if (a>=37.5):\n",
        "  print(\"體溫過高!\")\n",
        "elif (a>=37 and a<=37.4):\n",
        "  print(\"體溫略高!\")\n",
        "elif (a>=34 and a<=36.9):\n",
        "  print(\"體溫正常!\")\n",
        "else:\n",
        "  print(\"體溫異常,請重新測量!\")"
      ]
    },
    {
      "cell_type": "code",
      "source": [
        "score=input(\"請輸入分數\")\n",
        "sc=int(score)\n",
        "if(sc>=90):\n",
        "  print(\"A\")\n",
        "elif(sc>=80):\n",
        "  print(\"B\")\n",
        "elif(sc>=70):\n",
        "  print(\"C\")\n",
        "elif(sc>=60):\n",
        "  print(\"D\")\n",
        "else:\n",
        "  print(\"E\")"
      ],
      "metadata": {
        "colab": {
          "base_uri": "https://localhost:8080/"
        },
        "id": "GVjUucetBFCw",
        "outputId": "381ca85e-78d6-4102-f9f3-6f27fea00e10"
      },
      "execution_count": 21,
      "outputs": [
        {
          "output_type": "stream",
          "name": "stdout",
          "text": [
            "請輸入分數40\n",
            "E\n"
          ]
        }
      ]
    },
    {
      "cell_type": "code",
      "source": [
        "a=int(input(\"請輸入月份\"))\n",
        "if(a>=3 and a<=5):\n",
        " print(a,\"月是春天\")\n",
        "elif(a>=6 and a<=8):\n",
        " print(a,\"月是夏天\")\n",
        "elif(a>=9 and a<=11):\n",
        " print(a,\"月是秋天\")\n",
        "elif(a==12 and a<=2):\n",
        " print(a,\"月是冬天\")\n",
        "else:\n",
        "  print(\"月份不在範圍內\")\n",
        "\n"
      ],
      "metadata": {
        "colab": {
          "base_uri": "https://localhost:8080/"
        },
        "id": "kQ4upX-cBFFu",
        "outputId": "9afc0132-5115-480c-8e80-55a4957f3352"
      },
      "execution_count": 31,
      "outputs": [
        {
          "output_type": "stream",
          "name": "stdout",
          "text": [
            "請輸入月份8\n",
            "8 月是夏天\n"
          ]
        }
      ]
    },
    {
      "cell_type": "code",
      "source": [],
      "metadata": {
        "id": "SMC-c3XDBFIW"
      },
      "execution_count": null,
      "outputs": []
    },
    {
      "cell_type": "code",
      "source": [],
      "metadata": {
        "id": "Bq-8FoSDBFK2"
      },
      "execution_count": null,
      "outputs": []
    },
    {
      "cell_type": "code",
      "source": [],
      "metadata": {
        "id": "ALTXBlelBFNX"
      },
      "execution_count": null,
      "outputs": []
    }
  ]
}